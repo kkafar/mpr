{
  "nbformat": 4,
  "nbformat_minor": 0,
  "metadata": {
    "colab": {
      "provenance": [],
      "gpuType": "T4"
    },
    "kernelspec": {
      "name": "python3",
      "display_name": "Python 3"
    },
    "language_info": {
      "name": "python"
    },
    "accelerator": "GPU"
  },
  "cells": [
    {
      "cell_type": "code",
      "execution_count": 7,
      "metadata": {
        "colab": {
          "base_uri": "https://localhost:8080/",
          "height": 0
        },
        "id": "PruNgFNtMAgz",
        "outputId": "f9f91530-8dde-4c14-8547-db1b3ae1b707"
      },
      "outputs": [
        {
          "output_type": "stream",
          "name": "stdout",
          "text": [
            "nvcc: NVIDIA (R) Cuda compiler driver\n",
            "Copyright (c) 2005-2022 NVIDIA Corporation\n",
            "Built on Wed_Sep_21_10:33:58_PDT_2022\n",
            "Cuda compilation tools, release 11.8, V11.8.89\n",
            "Build cuda_11.8.r11.8/compiler.31833905_0\n"
          ]
        }
      ],
      "source": [
        "!nvcc --version"
      ]
    },
    {
      "cell_type": "code",
      "source": [
        "!pip install git+https://github.com/andreinechaev/nvcc4jupyter.git"
      ],
      "metadata": {
        "colab": {
          "base_uri": "https://localhost:8080/",
          "height": 0
        },
        "id": "IOSJPx4SMJED",
        "outputId": "a4cb0889-c900-46be-c149-03b5d1018935"
      },
      "execution_count": 8,
      "outputs": [
        {
          "output_type": "stream",
          "name": "stdout",
          "text": [
            "Looking in indexes: https://pypi.org/simple, https://us-python.pkg.dev/colab-wheels/public/simple/\n",
            "Collecting git+https://github.com/andreinechaev/nvcc4jupyter.git\n",
            "  Cloning https://github.com/andreinechaev/nvcc4jupyter.git to /tmp/pip-req-build-t3pomwsb\n",
            "  Running command git clone --filter=blob:none --quiet https://github.com/andreinechaev/nvcc4jupyter.git /tmp/pip-req-build-t3pomwsb\n",
            "  Resolved https://github.com/andreinechaev/nvcc4jupyter.git to commit aac710a35f52bb78ab34d2e52517237941399eff\n",
            "  Preparing metadata (setup.py) ... \u001b[?25l\u001b[?25hdone\n"
          ]
        }
      ]
    },
    {
      "cell_type": "code",
      "source": [
        "%load_ext nvcc_plugin"
      ],
      "metadata": {
        "colab": {
          "base_uri": "https://localhost:8080/",
          "height": 0
        },
        "id": "suPqkvnsMSl-",
        "outputId": "270f4c4b-2ab6-48a1-9b5e-3886c0bb3445"
      },
      "execution_count": 9,
      "outputs": [
        {
          "output_type": "stream",
          "name": "stdout",
          "text": [
            "The nvcc_plugin extension is already loaded. To reload it, use:\n",
            "  %reload_ext nvcc_plugin\n"
          ]
        }
      ]
    },
    {
      "cell_type": "markdown",
      "source": [
        "## Reduction"
      ],
      "metadata": {
        "id": "gb27E30HMhcd"
      }
    },
    {
      "cell_type": "code",
      "source": [
        "!nvcc -o bin/reduction_global reduction/reduction_global_kernel.cu reduction/reduction_global.cpp"
      ],
      "metadata": {
        "id": "bIu1KqS5MUgs"
      },
      "execution_count": 10,
      "outputs": []
    },
    {
      "cell_type": "code",
      "source": [
        "!nvcc -o bin/reduction_shared reduction/reduction_shared_kernel.cu reduction/reduction_shared.cpp"
      ],
      "metadata": {
        "id": "-ximqX8JNHEY"
      },
      "execution_count": 12,
      "outputs": []
    },
    {
      "cell_type": "code",
      "source": [
        "!nvprof bin/reduction_global"
      ],
      "metadata": {
        "colab": {
          "base_uri": "https://localhost:8080/",
          "height": 0
        },
        "id": "EoGKRLlpOVHL",
        "outputId": "dfee46fb-86ba-4ab6-e899-cb89ff824515"
      },
      "execution_count": 13,
      "outputs": [
        {
          "output_type": "stream",
          "name": "stdout",
          "text": [
            "==3445== NVPROF is profiling process 3445, command: bin/reduction_global\n",
            "Time= 14.905 msec, bandwidth= 4.502295 GB/s\n",
            "host: 0.996007, device 0.996007\n",
            "==3445== Profiling application: bin/reduction_global\n",
            "==3445== Profiling result:\n",
            "            Type  Time(%)      Time     Calls       Avg       Min       Max  Name\n",
            " GPU activities:   95.26%  1.41899s      2424  585.39us  451.92us  791.44us  global_reduction_kernel(float*, float*, int, int)\n",
            "                    3.70%  55.115ms       100  551.15us  544.79us  553.27us  [CUDA memcpy DtoD]\n",
            "                    1.04%  15.540ms         1  15.540ms  15.540ms  15.540ms  [CUDA memcpy HtoD]\n",
            "                    0.00%  1.7920us         1  1.7920us  1.7920us  1.7920us  [CUDA memcpy DtoH]\n",
            "      API calls:   78.32%  1.46460s       101  14.501ms  10.840us  34.901ms  cudaDeviceSynchronize\n",
            "                   19.37%  362.27ms         2  181.13ms  267.71us  362.00ms  cudaMalloc\n",
            "                    1.15%  21.413ms       102  209.94us  22.889us  16.156ms  cudaMemcpy\n",
            "                    1.01%  18.918ms      2424  7.8040us  5.1380us  400.24us  cudaLaunchKernel\n",
            "                    0.08%  1.4697ms         2  734.86us  322.07us  1.1477ms  cudaFree\n",
            "                    0.06%  1.0807ms         1  1.0807ms  1.0807ms  1.0807ms  cuDeviceGetPCIBusId\n",
            "                    0.01%  228.99us       101  2.2670us     276ns  78.426us  cuDeviceGetAttribute\n",
            "                    0.00%  45.531us         1  45.531us  45.531us  45.531us  cuDeviceGetName\n",
            "                    0.00%  3.1550us         3  1.0510us     361ns  2.3440us  cuDeviceGetCount\n",
            "                    0.00%  1.3930us         2     696ns     331ns  1.0620us  cuDeviceGet\n",
            "                    0.00%     792ns         1     792ns     792ns     792ns  cuDeviceTotalMem\n",
            "                    0.00%     524ns         1     524ns     524ns     524ns  cuModuleGetLoadingMode\n",
            "                    0.00%     437ns         1     437ns     437ns     437ns  cuDeviceGetUuid\n"
          ]
        }
      ]
    },
    {
      "cell_type": "code",
      "source": [
        "!nvprof bin/reduction_shared"
      ],
      "metadata": {
        "colab": {
          "base_uri": "https://localhost:8080/",
          "height": 0
        },
        "id": "3sG3HjOVOtwK",
        "outputId": "f9c8226f-981c-422d-f178-df60285cad92"
      },
      "execution_count": 14,
      "outputs": [
        {
          "output_type": "stream",
          "name": "stdout",
          "text": [
            "==3482== NVPROF is profiling process 3482, command: bin/reduction_shared\n",
            "Time= 2.565 msec, bandwidth= 26.165136 GB/s\n",
            "host: 0.996007, device 0.996007\n",
            "==3482== Profiling application: bin/reduction_shared\n",
            "==3482== Profiling result:\n",
            "            Type  Time(%)      Time     Calls       Avg       Min       Max  Name\n",
            " GPU activities:   74.34%  201.45ms       303  664.86us  4.2880us  2.5121ms  reduction_kernel(float*, float*, unsigned int)\n",
            "                   20.15%  54.600ms       101  540.59us  537.68us  542.77us  [CUDA memcpy DtoD]\n",
            "                    5.51%  14.920ms         1  14.920ms  14.920ms  14.920ms  [CUDA memcpy HtoD]\n",
            "                    0.00%  1.6640us         1  1.6640us  1.6640us  1.6640us  [CUDA memcpy DtoH]\n",
            "      API calls:   58.41%  253.49ms         1  253.49ms  253.49ms  253.49ms  cudaDeviceSynchronize\n",
            "                   37.06%  160.82ms         2  80.410ms  201.04us  160.62ms  cudaMalloc\n",
            "                    3.71%  16.084ms       103  156.16us  5.0930us  15.104ms  cudaMemcpy\n",
            "                    0.45%  1.9656ms       303  6.4870us  3.5830us  27.487us  cudaLaunchKernel\n",
            "                    0.33%  1.4214ms         2  710.70us  305.81us  1.1156ms  cudaFree\n",
            "                    0.03%  126.50us       101  1.2520us     146ns  54.227us  cuDeviceGetAttribute\n",
            "                    0.01%  34.264us         1  34.264us  34.264us  34.264us  cuDeviceGetName\n",
            "                    0.00%  7.0650us         1  7.0650us  7.0650us  7.0650us  cuDeviceGetPCIBusId\n",
            "                    0.00%  2.2520us         3     750ns     329ns  1.5630us  cuDeviceGetCount\n",
            "                    0.00%  1.1390us         2     569ns     306ns     833ns  cuDeviceGet\n",
            "                    0.00%     776ns         1     776ns     776ns     776ns  cuModuleGetLoadingMode\n",
            "                    0.00%     430ns         1     430ns     430ns     430ns  cuDeviceTotalMem\n",
            "                    0.00%     229ns         1     229ns     229ns     229ns  cuDeviceGetUuid\n"
          ]
        }
      ]
    },
    {
      "cell_type": "markdown",
      "source": [
        "### Wnioski\n",
        "\n",
        "1. Widzimy, że redukcja wykorzystująca pamięć współdzieloną wykonuję się ~7 razy szybciej na tych danych (total time).\n",
        "2. Widzimy, że w przypadku redukcji wykorzystującej pamięć współdzieloną czas spędzony na GPU jest istotnie niższy (?) i głównie spędzony na synchornizacji oraz alokacji pamięci.\n",
        "3. Ponownie w przypadku redukcji wykorzystującej pamięć współdzieloną wykorzystujemy znacznie więcej przepustowości (więcej przesyłów danych) (logiczne).\n",
        "\n"
      ],
      "metadata": {
        "id": "a7lJzbsmVqDW"
      }
    },
    {
      "cell_type": "markdown",
      "source": [
        "## Warp Divergence"
      ],
      "metadata": {
        "id": "-XjijazUP73y"
      }
    },
    {
      "cell_type": "code",
      "source": [
        "!nvcc -o bin/warp_divergence_interleaving warp-divergence/reduction.cpp warp-divergence/reduction_kernel_interleaving.cu -I include/"
      ],
      "metadata": {
        "id": "dV4T40yhOxA1"
      },
      "execution_count": 15,
      "outputs": []
    },
    {
      "cell_type": "code",
      "source": [
        "!nvcc -o bin/warp_divergence_sequential warp-divergence/reduction.cpp warp-divergence/reduction_kernel_sequential.cu -I include/"
      ],
      "metadata": {
        "id": "j9BwvenHP7af"
      },
      "execution_count": 16,
      "outputs": []
    },
    {
      "cell_type": "code",
      "source": [
        "!nvprof bin/warp_divergence_interleaving"
      ],
      "metadata": {
        "colab": {
          "base_uri": "https://localhost:8080/",
          "height": 0
        },
        "id": "OyNUKXaSQlhi",
        "outputId": "817158a0-99e8-4e61-cca0-5ea658f181a9"
      },
      "execution_count": 17,
      "outputs": [
        {
          "output_type": "stream",
          "name": "stdout",
          "text": [
            "==5668== NVPROF is profiling process 5668, command: bin/warp_divergence_interleaving\n",
            "Time= 3.073 msec, bandwidth= 21.836803 GB/s\n",
            "host: 0.996007, device 0.996007\n",
            "==5668== Profiling application: bin/warp_divergence_interleaving\n",
            "==5668== Profiling result:\n",
            "            Type  Time(%)      Time     Calls       Avg       Min       Max  Name\n",
            " GPU activities:   50.44%  15.580ms         1  15.580ms  15.580ms  15.580ms  [CUDA memcpy HtoD]\n",
            "                   40.78%  12.597ms        16  787.29us  6.4310us  2.0822ms  reduction_kernel_1(float*, float*, unsigned int)\n",
            "                    8.77%  2.7080ms         5  541.59us  541.07us  541.94us  [CUDA memcpy DtoD]\n",
            "                    0.01%  2.1760us         1  2.1760us  2.1760us  2.1760us  [CUDA memcpy DtoH]\n",
            "      API calls:   90.45%  312.63ms         2  156.32ms  257.44us  312.37ms  cudaMalloc\n",
            "                    4.60%  15.883ms         7  2.2690ms  7.6500us  15.778ms  cudaMemcpy\n",
            "                    4.39%  15.181ms         1  15.181ms  15.181ms  15.181ms  cudaDeviceSynchronize\n",
            "                    0.44%  1.5334ms         2  766.70us  297.68us  1.2357ms  cudaFree\n",
            "                    0.05%  184.83us       101  1.8300us     275ns  77.325us  cuDeviceGetAttribute\n",
            "                    0.05%  167.82us        16  10.488us  5.4930us  58.409us  cudaLaunchKernel\n",
            "                    0.01%  31.775us         1  31.775us  31.775us  31.775us  cuDeviceGetName\n",
            "                    0.00%  7.7210us         1  7.7210us  7.7210us  7.7210us  cuDeviceGetPCIBusId\n",
            "                    0.00%  2.5700us         3     856ns     388ns  1.7780us  cuDeviceGetCount\n",
            "                    0.00%  1.2040us         2     602ns     282ns     922ns  cuDeviceGet\n",
            "                    0.00%     936ns         1     936ns     936ns     936ns  cuDeviceTotalMem\n",
            "                    0.00%     757ns         1     757ns     757ns     757ns  cuModuleGetLoadingMode\n",
            "                    0.00%     391ns         1     391ns     391ns     391ns  cuDeviceGetUuid\n"
          ]
        }
      ]
    },
    {
      "cell_type": "code",
      "source": [
        "!nvprof bin/warp_divergence_sequential"
      ],
      "metadata": {
        "colab": {
          "base_uri": "https://localhost:8080/",
          "height": 0
        },
        "id": "SDId-YEAQqo3",
        "outputId": "1fdceaae-2189-4a2f-866e-2a752de13b05"
      },
      "execution_count": 18,
      "outputs": [
        {
          "output_type": "stream",
          "name": "stdout",
          "text": [
            "==5735== NVPROF is profiling process 5735, command: bin/warp_divergence_sequential\n",
            "Time= 2.590 msec, bandwidth= 25.914761 GB/s\n",
            "host: 0.996007, device 0.996007\n",
            "==5735== Profiling application: bin/warp_divergence_sequential\n",
            "==5735== Profiling result:\n",
            "            Type  Time(%)      Time     Calls       Avg       Min       Max  Name\n",
            " GPU activities:   52.71%  14.350ms         1  14.350ms  14.350ms  14.350ms  [CUDA memcpy HtoD]\n",
            "                   37.33%  10.165ms        16  635.29us  6.2070us  1.6787ms  reduction_kernel_2(float*, float*, unsigned int)\n",
            "                    9.95%  2.7088ms         5  541.76us  541.14us  542.96us  [CUDA memcpy DtoD]\n",
            "                    0.01%  2.1760us         1  2.1760us  2.1760us  2.1760us  [CUDA memcpy DtoH]\n",
            "      API calls:   84.50%  164.43ms         2  82.215ms  153.67us  164.28ms  cudaMalloc\n",
            "                    7.51%  14.610ms         7  2.0872ms  5.2630us  14.525ms  cudaMemcpy\n",
            "                    6.58%  12.811ms         1  12.811ms  12.811ms  12.811ms  cudaDeviceSynchronize\n",
            "                    1.25%  2.4368ms         2  1.2184ms  229.18us  2.2076ms  cudaFree\n",
            "                    0.07%  133.10us       101  1.3170us     138ns  54.781us  cuDeviceGetAttribute\n",
            "                    0.06%  119.93us        16  7.4950us  3.8050us  40.169us  cudaLaunchKernel\n",
            "                    0.02%  29.909us         1  29.909us  29.909us  29.909us  cuDeviceGetName\n",
            "                    0.00%  8.5920us         1  8.5920us  8.5920us  8.5920us  cuDeviceGetPCIBusId\n",
            "                    0.00%  1.6060us         3     535ns     246ns  1.0350us  cuDeviceGetCount\n",
            "                    0.00%     828ns         2     414ns     270ns     558ns  cuDeviceGet\n",
            "                    0.00%     462ns         1     462ns     462ns     462ns  cuModuleGetLoadingMode\n",
            "                    0.00%     458ns         1     458ns     458ns     458ns  cuDeviceTotalMem\n",
            "                    0.00%     253ns         1     253ns     253ns     253ns  cuDeviceGetUuid\n"
          ]
        }
      ]
    },
    {
      "cell_type": "markdown",
      "source": [
        "### Wnioski\n",
        "\n",
        "Czasy oraz charakterystyki (pamięć, procesor) są podobne. Również wykorzystanie zasobów (na jakich operacjach ile) jest podobne."
      ],
      "metadata": {
        "id": "Mnlne_7jWep6"
      }
    },
    {
      "cell_type": "markdown",
      "source": [
        "## Loop unrolling"
      ],
      "metadata": {
        "id": "oAlZxiG6RYO8"
      }
    },
    {
      "cell_type": "code",
      "source": [
        "!nvcc -o bin/loop_unrolling_cg loop-unrolling/reduction.cpp loop-unrolling/reduction_cg_kernel.cu -I include/"
      ],
      "metadata": {
        "id": "DfnKe-FnQtmA"
      },
      "execution_count": 20,
      "outputs": []
    },
    {
      "cell_type": "code",
      "source": [
        "!nvcc -o bin/loop_unrolling_wp loop-unrolling/reduction.cpp loop-unrolling/reduction_wp_kernel.cu -I include/"
      ],
      "metadata": {
        "id": "EJ0_SoC1R3_s"
      },
      "execution_count": 21,
      "outputs": []
    },
    {
      "cell_type": "code",
      "source": [
        "!nvprof bin/loop_unrolling_cg"
      ],
      "metadata": {
        "colab": {
          "base_uri": "https://localhost:8080/",
          "height": 0
        },
        "id": "_pRl1x6DR8Zj",
        "outputId": "0f2b07ec-8c77-47ea-ee1e-a0d5b6a60f3d"
      },
      "execution_count": 22,
      "outputs": [
        {
          "output_type": "stream",
          "name": "stdout",
          "text": [
            "==7294== NVPROF is profiling process 7294, command: bin/loop_unrolling_cg\n",
            "Time= 0.824 msec, bandwidth= 81.480370 GB/s\n",
            "host: 0.996007, device 0.996007\n",
            "==7294== Profiling application: bin/loop_unrolling_cg\n",
            "==7294== Profiling result:\n",
            "            Type  Time(%)      Time     Calls       Avg       Min       Max  Name\n",
            " GPU activities:   55.84%  54.177ms       100  541.77us  540.91us  542.67us  [CUDA memcpy DtoD]\n",
            "                   28.66%  27.803ms       202  137.64us  5.9200us  272.25us  reduction_kernel(float*, float*, unsigned int)\n",
            "                   15.50%  15.034ms         1  15.034ms  15.034ms  15.034ms  [CUDA memcpy HtoD]\n",
            "                    0.00%  2.1440us         1  2.1440us  2.1440us  2.1440us  [CUDA memcpy DtoH]\n",
            "      API calls:   64.25%  179.98ms         2  89.989ms  161.01us  179.82ms  cudaMalloc\n",
            "                   28.79%  80.647ms         1  80.647ms  80.647ms  80.647ms  cudaDeviceSynchronize\n",
            "                    5.67%  15.894ms       102  155.82us  5.0010us  15.243ms  cudaMemcpy\n",
            "                    0.50%  1.3986ms         2  699.28us  277.51us  1.1211ms  cudaFree\n",
            "                    0.36%  1.0203ms       101  10.102us     526ns  963.34us  cudaOccupancyMaxActiveBlocksPerMultiprocessorWithFlags\n",
            "                    0.34%  946.02us       202  4.6830us  3.7840us  41.632us  cudaLaunchKernel\n",
            "                    0.05%  135.22us       101  1.3380us     145ns  56.613us  cuDeviceGetAttribute\n",
            "                    0.02%  43.167us       101     427ns     360ns  3.5070us  cudaDeviceGetAttribute\n",
            "                    0.01%  27.610us         1  27.610us  27.610us  27.610us  cuDeviceGetName\n",
            "                    0.00%  6.8590us         1  6.8590us  6.8590us  6.8590us  cuDeviceGetPCIBusId\n",
            "                    0.00%  2.5530us         3     851ns     269ns  1.9780us  cuDeviceGetCount\n",
            "                    0.00%  1.2000us         2     600ns     170ns  1.0300us  cuDeviceGet\n",
            "                    0.00%     662ns         1     662ns     662ns     662ns  cuModuleGetLoadingMode\n",
            "                    0.00%     449ns         1     449ns     449ns     449ns  cuDeviceTotalMem\n",
            "                    0.00%     268ns         1     268ns     268ns     268ns  cuDeviceGetUuid\n"
          ]
        }
      ]
    },
    {
      "cell_type": "code",
      "source": [
        "!nvprof bin/loop_unrolling_wp"
      ],
      "metadata": {
        "colab": {
          "base_uri": "https://localhost:8080/",
          "height": 0
        },
        "id": "u2n440TCR8qp",
        "outputId": "af52d77a-21a3-45ca-9e9d-eb2766d991a2"
      },
      "execution_count": 23,
      "outputs": [
        {
          "output_type": "stream",
          "name": "stdout",
          "text": [
            "==7349== NVPROF is profiling process 7349, command: bin/loop_unrolling_wp\n",
            "Time= 0.822 msec, bandwidth= 81.632019 GB/s\n",
            "host: 0.996007, device 0.996007\n",
            "==7349== Profiling application: bin/loop_unrolling_wp\n",
            "==7349== Profiling result:\n",
            "            Type  Time(%)      Time     Calls       Avg       Min       Max  Name\n",
            " GPU activities:   56.31%  54.175ms       100  541.75us  540.98us  542.51us  [CUDA memcpy DtoD]\n",
            "                   28.70%  27.615ms       202  136.71us  5.5990us  278.43us  reduction_kernel(float*, float*, unsigned int)\n",
            "                   14.98%  14.414ms         1  14.414ms  14.414ms  14.414ms  [CUDA memcpy HtoD]\n",
            "                    0.00%  2.1760us         1  2.1760us  2.1760us  2.1760us  [CUDA memcpy DtoH]\n",
            "      API calls:   63.41%  170.62ms         2  85.311ms  138.16us  170.48ms  cudaMalloc\n",
            "                   29.94%  80.550ms         1  80.550ms  80.550ms  80.550ms  cudaDeviceSynchronize\n",
            "                    5.69%  15.308ms       102  150.07us  4.6900us  14.684ms  cudaMemcpy\n",
            "                    0.52%  1.3917ms         2  695.86us  266.97us  1.1248ms  cudaFree\n",
            "                    0.34%  918.29us       202  4.5450us  3.4380us  34.353us  cudaLaunchKernel\n",
            "                    0.05%  121.36us       101  1.2010us     130ns  51.971us  cuDeviceGetAttribute\n",
            "                    0.03%  69.112us       101     684ns     459ns  15.951us  cudaOccupancyMaxActiveBlocksPerMultiprocessorWithFlags\n",
            "                    0.01%  38.997us         1  38.997us  38.997us  38.997us  cuDeviceGetName\n",
            "                    0.01%  38.696us       101     383ns     315ns  2.9030us  cudaDeviceGetAttribute\n",
            "                    0.00%  5.4830us         1  5.4830us  5.4830us  5.4830us  cuDeviceGetPCIBusId\n",
            "                    0.00%  1.4560us         3     485ns     273ns     903ns  cuDeviceGetCount\n",
            "                    0.00%     927ns         2     463ns     268ns     659ns  cuDeviceGet\n",
            "                    0.00%     619ns         1     619ns     619ns     619ns  cuModuleGetLoadingMode\n",
            "                    0.00%     433ns         1     433ns     433ns     433ns  cuDeviceTotalMem\n",
            "                    0.00%     234ns         1     234ns     234ns     234ns  cuDeviceGetUuid\n"
          ]
        }
      ]
    },
    {
      "cell_type": "markdown",
      "source": [
        "### Wnioski\n",
        "\n",
        "Oba podejścia dają właściwie te same czasy i te same charakterystyki."
      ],
      "metadata": {
        "id": "p2EaDcYGWrLY"
      }
    },
    {
      "cell_type": "markdown",
      "source": [
        "## Atomic operations"
      ],
      "metadata": {
        "id": "5NR24eDRRc4y"
      }
    },
    {
      "cell_type": "code",
      "source": [
        "!nvcc -o bin/atomic_simple atomic-operations/reduction.cpp atomic-operations/reduction_kernel.cu -I include/"
      ],
      "metadata": {
        "id": "CWBsA1nzSNcn"
      },
      "execution_count": 24,
      "outputs": []
    },
    {
      "cell_type": "code",
      "source": [
        "!nvcc -o bin/atomic_blk atomic-operations/reduction.cpp atomic-operations/reduction_blk_atmc_kernel.cu -I include/"
      ],
      "metadata": {
        "id": "O9MJN5jQSNVE"
      },
      "execution_count": 25,
      "outputs": []
    },
    {
      "cell_type": "code",
      "source": [
        "!nvcc -o bin/atomic_wrp atomic-operations/reduction.cpp atomic-operations/reduction_wrp_atmc_kernel.cu -I include/"
      ],
      "metadata": {
        "id": "HCD7688QR9uw"
      },
      "execution_count": 26,
      "outputs": []
    },
    {
      "cell_type": "code",
      "source": [
        "!nvprof bin/atomic_simple"
      ],
      "metadata": {
        "colab": {
          "base_uri": "https://localhost:8080/",
          "height": 0
        },
        "id": "J7Ekb3X-R9n7",
        "outputId": "16768c6e-72c6-47bf-b18a-7ffe1d1e4bfd"
      },
      "execution_count": 27,
      "outputs": [
        {
          "output_type": "stream",
          "name": "stdout",
          "text": [
            "==7985== NVPROF is profiling process 7985, command: bin/atomic_simple\n",
            "Time= 35.468 msec, bandwidth= 1.892090 GB/s\n",
            "host: 0.996007, device 0.995981\n",
            "==7985== Profiling application: bin/atomic_simple\n",
            "==7985== Profiling result:\n",
            "            Type  Time(%)      Time     Calls       Avg       Min       Max  Name\n",
            " GPU activities:   98.07%  3.49211s       101  34.575ms  33.223ms  58.871ms  atomic_reduction_kernel(float*, float*, int)\n",
            "                    1.53%  54.506ms       100  545.06us  541.68us  545.84us  [CUDA memcpy DtoD]\n",
            "                    0.40%  14.304ms         1  14.304ms  14.304ms  14.304ms  [CUDA memcpy HtoD]\n",
            "                    0.00%  1.5360us         1  1.5360us  1.5360us  1.5360us  [CUDA memcpy DtoH]\n",
            "      API calls:   95.10%  3.54577s         1  3.54577s  3.54577s  3.54577s  cudaDeviceSynchronize\n",
            "                    4.43%  165.23ms         2  82.613ms  174.42us  165.05ms  cudaMalloc\n",
            "                    0.41%  15.125ms       102  148.29us  4.5370us  14.507ms  cudaMemcpy\n",
            "                    0.05%  1.8787ms         2  939.36us  268.96us  1.6098ms  cudaFree\n",
            "                    0.01%  456.33us       101  4.5180us  3.4480us  36.463us  cudaLaunchKernel\n",
            "                    0.00%  131.69us       101  1.3030us     146ns  55.876us  cuDeviceGetAttribute\n",
            "                    0.00%  26.234us         1  26.234us  26.234us  26.234us  cuDeviceGetName\n",
            "                    0.00%  7.5290us         1  7.5290us  7.5290us  7.5290us  cuDeviceGetPCIBusId\n",
            "                    0.00%  3.5230us         3  1.1740us     279ns  2.0530us  cuDeviceGetCount\n",
            "                    0.00%  1.0070us         2     503ns     226ns     781ns  cuDeviceGet\n",
            "                    0.00%     495ns         1     495ns     495ns     495ns  cuModuleGetLoadingMode\n",
            "                    0.00%     466ns         1     466ns     466ns     466ns  cuDeviceTotalMem\n",
            "                    0.00%     238ns         1     238ns     238ns     238ns  cuDeviceGetUuid\n"
          ]
        }
      ]
    },
    {
      "cell_type": "code",
      "source": [
        "!nvprof bin/atomic_blk"
      ],
      "metadata": {
        "colab": {
          "base_uri": "https://localhost:8080/",
          "height": 0
        },
        "id": "SgCDt58UR9ea",
        "outputId": "bd1f2aee-b09b-4f7f-a489-2e73fb269d24"
      },
      "execution_count": 28,
      "outputs": [
        {
          "output_type": "stream",
          "name": "stdout",
          "text": [
            "==8018== NVPROF is profiling process 8018, command: bin/atomic_blk\n",
            "Time= 0.814 msec, bandwidth= 82.448395 GB/s\n",
            "host: 0.996007, device 0.996007\n",
            "==8018== Profiling application: bin/atomic_blk\n",
            "==8018== Profiling result:\n",
            "            Type  Time(%)      Time     Calls       Avg       Min       Max  Name\n",
            " GPU activities:   56.20%  54.201ms       100  542.01us  541.14us  544.53us  [CUDA memcpy DtoD]\n",
            "                   27.89%  26.898ms       101  266.32us  257.98us  268.25us  reduction_blk_atmc_kernel(float*, float*, unsigned int)\n",
            "                   15.90%  15.335ms         1  15.335ms  15.335ms  15.335ms  [CUDA memcpy HtoD]\n",
            "                    0.00%  2.1440us         1  2.1440us  2.1440us  2.1440us  [CUDA memcpy DtoH]\n",
            "      API calls:   60.46%  150.80ms         2  75.400ms  146.29us  150.65ms  cudaMalloc\n",
            "                   32.15%  80.192ms         1  80.192ms  80.192ms  80.192ms  cudaDeviceSynchronize\n",
            "                    6.47%  16.143ms       102  158.26us  4.7550us  15.506ms  cudaMemcpy\n",
            "                    0.61%  1.5237ms         2  761.86us  328.52us  1.1952ms  cudaFree\n",
            "                    0.19%  480.26us       101  4.7550us  3.5810us  35.742us  cudaLaunchKernel\n",
            "                    0.05%  124.09us       101  1.2280us     138ns  52.183us  cuDeviceGetAttribute\n",
            "                    0.03%  70.506us       101     698ns     505ns  15.534us  cudaOccupancyMaxActiveBlocksPerMultiprocessorWithFlags\n",
            "                    0.02%  39.437us       101     390ns     329ns  3.8610us  cudaDeviceGetAttribute\n",
            "                    0.01%  26.805us         1  26.805us  26.805us  26.805us  cuDeviceGetName\n",
            "                    0.00%  6.5600us         1  6.5600us  6.5600us  6.5600us  cuDeviceGetPCIBusId\n",
            "                    0.00%  2.6870us         2  1.3430us     263ns  2.4240us  cuDeviceGet\n",
            "                    0.00%  2.0230us         3     674ns     279ns  1.4570us  cuDeviceGetCount\n",
            "                    0.00%     481ns         1     481ns     481ns     481ns  cuModuleGetLoadingMode\n",
            "                    0.00%     433ns         1     433ns     433ns     433ns  cuDeviceTotalMem\n",
            "                    0.00%     267ns         1     267ns     267ns     267ns  cuDeviceGetUuid\n"
          ]
        }
      ]
    },
    {
      "cell_type": "code",
      "source": [
        "!nvprof bin/atomic_wrp"
      ],
      "metadata": {
        "colab": {
          "base_uri": "https://localhost:8080/",
          "height": 0
        },
        "id": "qY6uVD9fR9J7",
        "outputId": "91bd5362-3523-4615-fa51-20fbabac6b42"
      },
      "execution_count": 29,
      "outputs": [
        {
          "output_type": "stream",
          "name": "stdout",
          "text": [
            "==8063== NVPROF is profiling process 8063, command: bin/atomic_wrp\n",
            "Time= 0.813 msec, bandwidth= 82.526459 GB/s\n",
            "host: 0.996007, device 0.996007\n",
            "==8063== Profiling application: bin/atomic_wrp\n",
            "==8063== Profiling result:\n",
            "            Type  Time(%)      Time     Calls       Avg       Min       Max  Name\n",
            " GPU activities:   56.70%  54.200ms       100  542.00us  541.14us  542.87us  [CUDA memcpy DtoD]\n",
            "                   28.06%  26.816ms       101  265.51us  255.74us  268.89us  reduction_wrp_atmc_kernel(float*, float*, unsigned int)\n",
            "                   15.24%  14.566ms         1  14.566ms  14.566ms  14.566ms  [CUDA memcpy HtoD]\n",
            "                    0.00%  2.1760us         1  2.1760us  2.1760us  2.1760us  [CUDA memcpy DtoH]\n",
            "      API calls:   63.64%  171.16ms         2  85.581ms  142.10us  171.02ms  cudaMalloc\n",
            "                   29.83%  80.228ms         1  80.228ms  80.228ms  80.228ms  cudaDeviceSynchronize\n",
            "                    5.70%  15.332ms       102  150.31us  4.3760us  14.766ms  cudaMemcpy\n",
            "                    0.56%  1.5152ms         2  757.58us  306.49us  1.2087ms  cudaFree\n",
            "                    0.17%  452.55us       101  4.4800us  3.3850us  30.131us  cudaLaunchKernel\n",
            "                    0.05%  126.79us       101  1.2550us     135ns  54.836us  cuDeviceGetAttribute\n",
            "                    0.03%  69.130us       101     684ns     469ns  13.196us  cudaOccupancyMaxActiveBlocksPerMultiprocessorWithFlags\n",
            "                    0.01%  35.824us       101     354ns     305ns  3.1320us  cudaDeviceGetAttribute\n",
            "                    0.01%  24.686us         1  24.686us  24.686us  24.686us  cuDeviceGetName\n",
            "                    0.00%  7.1450us         1  7.1450us  7.1450us  7.1450us  cuDeviceGetPCIBusId\n",
            "                    0.00%  1.6280us         3     542ns     241ns  1.1390us  cuDeviceGetCount\n",
            "                    0.00%     840ns         2     420ns     179ns     661ns  cuDeviceGet\n",
            "                    0.00%     752ns         1     752ns     752ns     752ns  cuDeviceTotalMem\n",
            "                    0.00%     529ns         1     529ns     529ns     529ns  cuModuleGetLoadingMode\n",
            "                    0.00%     257ns         1     257ns     257ns     257ns  cuDeviceGetUuid\n"
          ]
        }
      ]
    },
    {
      "cell_type": "markdown",
      "source": [
        "### Wnioski\n",
        "\n",
        "Widzimy, że ograniczenie wykorzystania operacji atomowych tylko do sytuacji gdy to niezbędne pozwala zaoszczędzić sporo czasu (35 ms vs 0.8 ms).\n",
        "\n",
        "Oba podejścia \"oszczędzające operacje atomowee\" bają bardzo zbliżone czasy i charakterystyki."
      ],
      "metadata": {
        "id": "EuuZAg0NW8st"
      }
    },
    {
      "cell_type": "markdown",
      "source": [
        "## Histogram\n",
        "\n",
        "Lekko zmodyfikowałem kod źródłowy aby móc ustawiać rozmiar tablicy i liczbę słupków podczas kompilacji jako makra `C_ARRAY_SIZE` i `C_BIN_COUNT`."
      ],
      "metadata": {
        "id": "ea8fBXn-RfDd"
      }
    },
    {
      "cell_type": "code",
      "source": [
        "!nvcc -o bin/histo_basic histogram/histo.cu -I include/ -DC_ARRAY_SIZE=65536 -DC_BIN_COUNT=16"
      ],
      "metadata": {
        "id": "N8p8JGOdR-oF"
      },
      "execution_count": 30,
      "outputs": []
    },
    {
      "cell_type": "code",
      "source": [
        "!nvcc -o bin/histo_big histogram/histo.cu -I include/ -DC_ARRAY_SIZE=65536 -DC_BIN_COUNT=256"
      ],
      "metadata": {
        "id": "61dMrJDKR-k1"
      },
      "execution_count": 32,
      "outputs": []
    },
    {
      "cell_type": "code",
      "source": [
        "!nvprof bin/histo_basic 0"
      ],
      "metadata": {
        "colab": {
          "base_uri": "https://localhost:8080/",
          "height": 0
        },
        "id": "yOTJ_UBiR-gR",
        "outputId": "a5cada8d-d848-4913-dafa-215792c3a767"
      },
      "execution_count": 33,
      "outputs": [
        {
          "output_type": "stream",
          "name": "stdout",
          "text": [
            "==10765== NVPROF is profiling process 10765, command: bin/histo_basic 0\n",
            "Using device 0:\n",
            "Tesla T4; global mem: -1344471040B; compute v7.5; clock: 1590000 kHz\n",
            "Running naive histo\n",
            "bin 0: count 1\n",
            "bin 1: count 2\n",
            "bin 2: count 1\n",
            "bin 3: count 2\n",
            "bin 4: count 1\n",
            "bin 5: count 2\n",
            "bin 6: count 2\n",
            "bin 7: count 3\n",
            "bin 8: count 1\n",
            "bin 9: count 2\n",
            "bin 10: count 1\n",
            "bin 11: count 3\n",
            "bin 12: count 1\n",
            "bin 13: count 2\n",
            "bin 14: count 2\n",
            "bin 15: count 3\n",
            "==10765== Profiling application: bin/histo_basic 0\n",
            "==10765== Profiling result:\n",
            "            Type  Time(%)      Time     Calls       Avg       Min       Max  Name\n",
            " GPU activities:   64.56%  26.112us         2  13.056us  1.4080us  24.704us  [CUDA memcpy HtoD]\n",
            "                   30.06%  12.159us         1  12.159us  12.159us  12.159us  naive_histo(int*, int const *, int)\n",
            "                    5.38%  2.1760us         1  2.1760us  2.1760us  2.1760us  [CUDA memcpy DtoH]\n",
            "      API calls:   99.64%  173.08ms         2  86.540ms  5.3010us  173.07ms  cudaMalloc\n",
            "                    0.09%  164.85us         3  54.951us  27.070us  104.25us  cudaMemcpy\n",
            "                    0.08%  142.98us         2  71.492us  13.423us  129.56us  cudaFree\n",
            "                    0.08%  135.26us       101  1.3390us     132ns  61.532us  cuDeviceGetAttribute\n",
            "                    0.05%  93.881us         1  93.881us  93.881us  93.881us  cudaGetDeviceProperties\n",
            "                    0.02%  41.097us         1  41.097us  41.097us  41.097us  cudaLaunchKernel\n",
            "                    0.02%  27.703us         1  27.703us  27.703us  27.703us  cuDeviceGetName\n",
            "                    0.00%  6.6100us         1  6.6100us  6.6100us  6.6100us  cuDeviceGetPCIBusId\n",
            "                    0.00%  3.3070us         1  3.3070us  3.3070us  3.3070us  cudaSetDevice\n",
            "                    0.00%  2.2760us         3     758ns     232ns  1.7720us  cuDeviceGetCount\n",
            "                    0.00%  1.1970us         2     598ns     245ns     952ns  cuDeviceGet\n",
            "                    0.00%  1.0570us         1  1.0570us  1.0570us  1.0570us  cudaGetDeviceCount\n",
            "                    0.00%     544ns         1     544ns     544ns     544ns  cuModuleGetLoadingMode\n",
            "                    0.00%     437ns         1     437ns     437ns     437ns  cuDeviceTotalMem\n",
            "                    0.00%     292ns         1     292ns     292ns     292ns  cuDeviceGetUuid\n"
          ]
        }
      ]
    },
    {
      "cell_type": "code",
      "source": [
        "!nvprof bin/histo_basic 1"
      ],
      "metadata": {
        "colab": {
          "base_uri": "https://localhost:8080/",
          "height": 0
        },
        "id": "sT3R_MMWU6Rb",
        "outputId": "de2340fc-ec28-454f-8001-3e4e8557a0fd"
      },
      "execution_count": 35,
      "outputs": [
        {
          "output_type": "stream",
          "name": "stdout",
          "text": [
            "==10872== NVPROF is profiling process 10872, command: bin/histo_basic 1\n",
            "Using device 0:\n",
            "Tesla T4; global mem: -1344471040B; compute v7.5; clock: 1590000 kHz\n",
            "Running simple histo\n",
            "bin 0: count 4096\n",
            "bin 1: count 4096\n",
            "bin 2: count 4096\n",
            "bin 3: count 4096\n",
            "bin 4: count 4096\n",
            "bin 5: count 4096\n",
            "bin 6: count 4096\n",
            "bin 7: count 4096\n",
            "bin 8: count 4096\n",
            "bin 9: count 4096\n",
            "bin 10: count 4096\n",
            "bin 11: count 4096\n",
            "bin 12: count 4096\n",
            "bin 13: count 4096\n",
            "bin 14: count 4096\n",
            "bin 15: count 4096\n",
            "==10872== Profiling application: bin/histo_basic 1\n",
            "==10872== Profiling result:\n",
            "            Type  Time(%)      Time     Calls       Avg       Min       Max  Name\n",
            " GPU activities:   77.29%  96.062us         1  96.062us  96.062us  96.062us  simple_histo(int*, int const *, int)\n",
            "                   20.91%  25.983us         2  12.991us  1.4080us  24.575us  [CUDA memcpy HtoD]\n",
            "                    1.80%  2.2400us         1  2.2400us  2.2400us  2.2400us  [CUDA memcpy DtoH]\n",
            "      API calls:   99.49%  135.36ms         2  67.679ms  5.8220us  135.35ms  cudaMalloc\n",
            "                    0.17%  234.84us         3  78.281us  33.561us  108.89us  cudaMemcpy\n",
            "                    0.10%  134.64us       101  1.3330us     147ns  57.540us  cuDeviceGetAttribute\n",
            "                    0.09%  126.93us         2  63.465us  11.474us  115.46us  cudaFree\n",
            "                    0.08%  108.72us         1  108.72us  108.72us  108.72us  cudaGetDeviceProperties\n",
            "                    0.03%  42.785us         1  42.785us  42.785us  42.785us  cudaLaunchKernel\n",
            "                    0.02%  30.448us         1  30.448us  30.448us  30.448us  cuDeviceGetName\n",
            "                    0.01%  7.4020us         1  7.4020us  7.4020us  7.4020us  cudaSetDevice\n",
            "                    0.00%  6.3930us         1  6.3930us  6.3930us  6.3930us  cuDeviceGetPCIBusId\n",
            "                    0.00%  2.4030us         3     801ns     241ns  1.8210us  cuDeviceGetCount\n",
            "                    0.00%  1.1940us         1  1.1940us  1.1940us  1.1940us  cudaGetDeviceCount\n",
            "                    0.00%  1.0990us         2     549ns     192ns     907ns  cuDeviceGet\n",
            "                    0.00%     636ns         1     636ns     636ns     636ns  cuModuleGetLoadingMode\n",
            "                    0.00%     486ns         1     486ns     486ns     486ns  cuDeviceTotalMem\n",
            "                    0.00%     405ns         1     405ns     405ns     405ns  cuDeviceGetUuid\n"
          ]
        }
      ]
    },
    {
      "cell_type": "code",
      "source": [
        "!nvprof bin/histo_big 0"
      ],
      "metadata": {
        "colab": {
          "base_uri": "https://localhost:8080/",
          "height": 0
        },
        "id": "_EWtoxKbU6HW",
        "outputId": "0fc54e0d-c34f-4141-d0d6-9b6f57e4be99"
      },
      "execution_count": 36,
      "outputs": [
        {
          "output_type": "stream",
          "name": "stdout",
          "text": [
            "==10923== NVPROF is profiling process 10923, command: bin/histo_big 0\n",
            "Using device 0:\n",
            "Tesla T4; global mem: -1344471040B; compute v7.5; clock: 1590000 kHz\n",
            "Running naive histo\n",
            "bin 0: count 1\n",
            "bin 1: count 1\n",
            "bin 2: count 1\n",
            "bin 3: count 1\n",
            "bin 4: count 1\n",
            "bin 5: count 1\n",
            "bin 6: count 1\n",
            "bin 7: count 1\n",
            "bin 8: count 1\n",
            "bin 9: count 1\n",
            "bin 10: count 1\n",
            "bin 11: count 2\n",
            "bin 12: count 1\n",
            "bin 13: count 1\n",
            "bin 14: count 1\n",
            "bin 15: count 1\n",
            "bin 16: count 1\n",
            "bin 17: count 1\n",
            "bin 18: count 1\n",
            "bin 19: count 1\n",
            "bin 20: count 1\n",
            "bin 21: count 1\n",
            "bin 22: count 1\n",
            "bin 23: count 1\n",
            "bin 24: count 1\n",
            "bin 25: count 1\n",
            "bin 26: count 1\n",
            "bin 27: count 1\n",
            "bin 28: count 1\n",
            "bin 29: count 1\n",
            "bin 30: count 1\n",
            "bin 31: count 1\n",
            "bin 32: count 1\n",
            "bin 33: count 1\n",
            "bin 34: count 1\n",
            "bin 35: count 1\n",
            "bin 36: count 1\n",
            "bin 37: count 1\n",
            "bin 38: count 1\n",
            "bin 39: count 1\n",
            "bin 40: count 1\n",
            "bin 41: count 1\n",
            "bin 42: count 1\n",
            "bin 43: count 1\n",
            "bin 44: count 1\n",
            "bin 45: count 2\n",
            "bin 46: count 1\n",
            "bin 47: count 2\n",
            "bin 48: count 1\n",
            "bin 49: count 1\n",
            "bin 50: count 1\n",
            "bin 51: count 2\n",
            "bin 52: count 1\n",
            "bin 53: count 1\n",
            "bin 54: count 1\n",
            "bin 55: count 1\n",
            "bin 56: count 1\n",
            "bin 57: count 1\n",
            "bin 58: count 1\n",
            "bin 59: count 1\n",
            "bin 60: count 1\n",
            "bin 61: count 2\n",
            "bin 62: count 1\n",
            "bin 63: count 1\n",
            "bin 64: count 1\n",
            "bin 65: count 1\n",
            "bin 66: count 1\n",
            "bin 67: count 2\n",
            "bin 68: count 1\n",
            "bin 69: count 1\n",
            "bin 70: count 1\n",
            "bin 71: count 1\n",
            "bin 72: count 1\n",
            "bin 73: count 1\n",
            "bin 74: count 1\n",
            "bin 75: count 1\n",
            "bin 76: count 1\n",
            "bin 77: count 1\n",
            "bin 78: count 1\n",
            "bin 79: count 1\n",
            "bin 80: count 1\n",
            "bin 81: count 1\n",
            "bin 82: count 1\n",
            "bin 83: count 1\n",
            "bin 84: count 1\n",
            "bin 85: count 1\n",
            "bin 86: count 1\n",
            "bin 87: count 2\n",
            "bin 88: count 1\n",
            "bin 89: count 1\n",
            "bin 90: count 1\n",
            "bin 91: count 1\n",
            "bin 92: count 1\n",
            "bin 93: count 2\n",
            "bin 94: count 1\n",
            "bin 95: count 1\n",
            "bin 96: count 1\n",
            "bin 97: count 1\n",
            "bin 98: count 1\n",
            "bin 99: count 1\n",
            "bin 100: count 1\n",
            "bin 101: count 1\n",
            "bin 102: count 1\n",
            "bin 103: count 1\n",
            "bin 104: count 1\n",
            "bin 105: count 1\n",
            "bin 106: count 1\n",
            "bin 107: count 1\n",
            "bin 108: count 1\n",
            "bin 109: count 1\n",
            "bin 110: count 1\n",
            "bin 111: count 2\n",
            "bin 112: count 1\n",
            "bin 113: count 1\n",
            "bin 114: count 1\n",
            "bin 115: count 1\n",
            "bin 116: count 1\n",
            "bin 117: count 1\n",
            "bin 118: count 1\n",
            "bin 119: count 2\n",
            "bin 120: count 1\n",
            "bin 121: count 1\n",
            "bin 122: count 1\n",
            "bin 123: count 1\n",
            "bin 124: count 1\n",
            "bin 125: count 1\n",
            "bin 126: count 1\n",
            "bin 127: count 1\n",
            "bin 128: count 1\n",
            "bin 129: count 1\n",
            "bin 130: count 1\n",
            "bin 131: count 1\n",
            "bin 132: count 1\n",
            "bin 133: count 1\n",
            "bin 134: count 1\n",
            "bin 135: count 2\n",
            "bin 136: count 1\n",
            "bin 137: count 1\n",
            "bin 138: count 1\n",
            "bin 139: count 1\n",
            "bin 140: count 1\n",
            "bin 141: count 1\n",
            "bin 142: count 1\n",
            "bin 143: count 1\n",
            "bin 144: count 1\n",
            "bin 145: count 1\n",
            "bin 146: count 1\n",
            "bin 147: count 1\n",
            "bin 148: count 1\n",
            "bin 149: count 1\n",
            "bin 150: count 1\n",
            "bin 151: count 1\n",
            "bin 152: count 1\n",
            "bin 153: count 1\n",
            "bin 154: count 1\n",
            "bin 155: count 1\n",
            "bin 156: count 1\n",
            "bin 157: count 1\n",
            "bin 158: count 1\n",
            "bin 159: count 2\n",
            "bin 160: count 1\n",
            "bin 161: count 1\n",
            "bin 162: count 1\n",
            "bin 163: count 1\n",
            "bin 164: count 1\n",
            "bin 165: count 1\n",
            "bin 166: count 1\n",
            "bin 167: count 1\n",
            "bin 168: count 1\n",
            "bin 169: count 1\n",
            "bin 170: count 1\n",
            "bin 171: count 1\n",
            "bin 172: count 1\n",
            "bin 173: count 1\n",
            "bin 174: count 1\n",
            "bin 175: count 1\n",
            "bin 176: count 1\n",
            "bin 177: count 1\n",
            "bin 178: count 1\n",
            "bin 179: count 1\n",
            "bin 180: count 1\n",
            "bin 181: count 1\n",
            "bin 182: count 1\n",
            "bin 183: count 1\n",
            "bin 184: count 1\n",
            "bin 185: count 1\n",
            "bin 186: count 1\n",
            "bin 187: count 1\n",
            "bin 188: count 1\n",
            "bin 189: count 1\n",
            "bin 190: count 1\n",
            "bin 191: count 1\n",
            "bin 192: count 1\n",
            "bin 193: count 1\n",
            "bin 194: count 1\n",
            "bin 195: count 1\n",
            "bin 196: count 1\n",
            "bin 197: count 1\n",
            "bin 198: count 1\n",
            "bin 199: count 1\n",
            "bin 200: count 1\n",
            "bin 201: count 1\n",
            "bin 202: count 1\n",
            "bin 203: count 1\n",
            "bin 204: count 1\n",
            "bin 205: count 1\n",
            "bin 206: count 1\n",
            "bin 207: count 2\n",
            "bin 208: count 1\n",
            "bin 209: count 1\n",
            "bin 210: count 1\n",
            "bin 211: count 1\n",
            "bin 212: count 1\n",
            "bin 213: count 1\n",
            "bin 214: count 1\n",
            "bin 215: count 1\n",
            "bin 216: count 1\n",
            "bin 217: count 1\n",
            "bin 218: count 1\n",
            "bin 219: count 1\n",
            "bin 220: count 1\n",
            "bin 221: count 1\n",
            "bin 222: count 1\n",
            "bin 223: count 2\n",
            "bin 224: count 1\n",
            "bin 225: count 1\n",
            "bin 226: count 1\n",
            "bin 227: count 2\n",
            "bin 228: count 1\n",
            "bin 229: count 1\n",
            "bin 230: count 1\n",
            "bin 231: count 1\n",
            "bin 232: count 1\n",
            "bin 233: count 1\n",
            "bin 234: count 1\n",
            "bin 235: count 1\n",
            "bin 236: count 1\n",
            "bin 237: count 2\n",
            "bin 238: count 1\n",
            "bin 239: count 1\n",
            "bin 240: count 1\n",
            "bin 241: count 1\n",
            "bin 242: count 1\n",
            "bin 243: count 1\n",
            "bin 244: count 1\n",
            "bin 245: count 1\n",
            "bin 246: count 1\n",
            "bin 247: count 1\n",
            "bin 248: count 1\n",
            "bin 249: count 1\n",
            "bin 250: count 1\n",
            "bin 251: count 1\n",
            "bin 252: count 1\n",
            "bin 253: count 1\n",
            "bin 254: count 2\n",
            "bin 255: count 2\n",
            "==10923== Profiling application: bin/histo_big 0\n",
            "==10923== Profiling result:\n",
            "            Type  Time(%)      Time     Calls       Avg       Min       Max  Name\n",
            " GPU activities:   69.63%  26.335us         2  13.167us  1.8560us  24.479us  [CUDA memcpy HtoD]\n",
            "                   24.62%  9.3120us         1  9.3120us  9.3120us  9.3120us  naive_histo(int*, int const *, int)\n",
            "                    5.75%  2.1760us         1  2.1760us  2.1760us  2.1760us  [CUDA memcpy DtoH]\n",
            "      API calls:   99.51%  133.67ms         2  66.833ms  4.4950us  133.66ms  cudaMalloc\n",
            "                    0.11%  150.26us       101  1.4870us     133ns  65.037us  cuDeviceGetAttribute\n",
            "                    0.11%  145.36us         1  145.36us  145.36us  145.36us  cudaGetDeviceProperties\n",
            "                    0.10%  140.95us         3  46.984us  26.273us  81.003us  cudaMemcpy\n",
            "                    0.10%  131.41us         2  65.704us  13.910us  117.50us  cudaFree\n",
            "                    0.03%  38.710us         1  38.710us  38.710us  38.710us  cudaLaunchKernel\n",
            "                    0.03%  37.620us         1  37.620us  37.620us  37.620us  cuDeviceGetName\n",
            "                    0.00%  6.1300us         1  6.1300us  6.1300us  6.1300us  cuDeviceGetPCIBusId\n",
            "                    0.00%  3.0990us         1  3.0990us  3.0990us  3.0990us  cudaSetDevice\n",
            "                    0.00%  2.2870us         3     762ns     213ns  1.7240us  cuDeviceGetCount\n",
            "                    0.00%  1.0980us         2     549ns     307ns     791ns  cuDeviceGet\n",
            "                    0.00%     985ns         1     985ns     985ns     985ns  cudaGetDeviceCount\n",
            "                    0.00%     704ns         1     704ns     704ns     704ns  cuModuleGetLoadingMode\n",
            "                    0.00%     451ns         1     451ns     451ns     451ns  cuDeviceTotalMem\n",
            "                    0.00%     206ns         1     206ns     206ns     206ns  cuDeviceGetUuid\n"
          ]
        }
      ]
    },
    {
      "cell_type": "code",
      "source": [
        "!nvprof bin/histo_big 1"
      ],
      "metadata": {
        "colab": {
          "base_uri": "https://localhost:8080/",
          "height": 0
        },
        "id": "ho2PpZw4R-ZI",
        "outputId": "953fa35a-724d-46cc-c4a9-855bcb349646"
      },
      "execution_count": 37,
      "outputs": [
        {
          "output_type": "stream",
          "name": "stdout",
          "text": [
            "==10968== NVPROF is profiling process 10968, command: bin/histo_big 1\n",
            "Using device 0:\n",
            "Tesla T4; global mem: -1344471040B; compute v7.5; clock: 1590000 kHz\n",
            "Running simple histo\n",
            "bin 0: count 256\n",
            "bin 1: count 256\n",
            "bin 2: count 256\n",
            "bin 3: count 256\n",
            "bin 4: count 256\n",
            "bin 5: count 256\n",
            "bin 6: count 256\n",
            "bin 7: count 256\n",
            "bin 8: count 256\n",
            "bin 9: count 256\n",
            "bin 10: count 256\n",
            "bin 11: count 256\n",
            "bin 12: count 256\n",
            "bin 13: count 256\n",
            "bin 14: count 256\n",
            "bin 15: count 256\n",
            "bin 16: count 256\n",
            "bin 17: count 256\n",
            "bin 18: count 256\n",
            "bin 19: count 256\n",
            "bin 20: count 256\n",
            "bin 21: count 256\n",
            "bin 22: count 256\n",
            "bin 23: count 256\n",
            "bin 24: count 256\n",
            "bin 25: count 256\n",
            "bin 26: count 256\n",
            "bin 27: count 256\n",
            "bin 28: count 256\n",
            "bin 29: count 256\n",
            "bin 30: count 256\n",
            "bin 31: count 256\n",
            "bin 32: count 256\n",
            "bin 33: count 256\n",
            "bin 34: count 256\n",
            "bin 35: count 256\n",
            "bin 36: count 256\n",
            "bin 37: count 256\n",
            "bin 38: count 256\n",
            "bin 39: count 256\n",
            "bin 40: count 256\n",
            "bin 41: count 256\n",
            "bin 42: count 256\n",
            "bin 43: count 256\n",
            "bin 44: count 256\n",
            "bin 45: count 256\n",
            "bin 46: count 256\n",
            "bin 47: count 256\n",
            "bin 48: count 256\n",
            "bin 49: count 256\n",
            "bin 50: count 256\n",
            "bin 51: count 256\n",
            "bin 52: count 256\n",
            "bin 53: count 256\n",
            "bin 54: count 256\n",
            "bin 55: count 256\n",
            "bin 56: count 256\n",
            "bin 57: count 256\n",
            "bin 58: count 256\n",
            "bin 59: count 256\n",
            "bin 60: count 256\n",
            "bin 61: count 256\n",
            "bin 62: count 256\n",
            "bin 63: count 256\n",
            "bin 64: count 256\n",
            "bin 65: count 256\n",
            "bin 66: count 256\n",
            "bin 67: count 256\n",
            "bin 68: count 256\n",
            "bin 69: count 256\n",
            "bin 70: count 256\n",
            "bin 71: count 256\n",
            "bin 72: count 256\n",
            "bin 73: count 256\n",
            "bin 74: count 256\n",
            "bin 75: count 256\n",
            "bin 76: count 256\n",
            "bin 77: count 256\n",
            "bin 78: count 256\n",
            "bin 79: count 256\n",
            "bin 80: count 256\n",
            "bin 81: count 256\n",
            "bin 82: count 256\n",
            "bin 83: count 256\n",
            "bin 84: count 256\n",
            "bin 85: count 256\n",
            "bin 86: count 256\n",
            "bin 87: count 256\n",
            "bin 88: count 256\n",
            "bin 89: count 256\n",
            "bin 90: count 256\n",
            "bin 91: count 256\n",
            "bin 92: count 256\n",
            "bin 93: count 256\n",
            "bin 94: count 256\n",
            "bin 95: count 256\n",
            "bin 96: count 256\n",
            "bin 97: count 256\n",
            "bin 98: count 256\n",
            "bin 99: count 256\n",
            "bin 100: count 256\n",
            "bin 101: count 256\n",
            "bin 102: count 256\n",
            "bin 103: count 256\n",
            "bin 104: count 256\n",
            "bin 105: count 256\n",
            "bin 106: count 256\n",
            "bin 107: count 256\n",
            "bin 108: count 256\n",
            "bin 109: count 256\n",
            "bin 110: count 256\n",
            "bin 111: count 256\n",
            "bin 112: count 256\n",
            "bin 113: count 256\n",
            "bin 114: count 256\n",
            "bin 115: count 256\n",
            "bin 116: count 256\n",
            "bin 117: count 256\n",
            "bin 118: count 256\n",
            "bin 119: count 256\n",
            "bin 120: count 256\n",
            "bin 121: count 256\n",
            "bin 122: count 256\n",
            "bin 123: count 256\n",
            "bin 124: count 256\n",
            "bin 125: count 256\n",
            "bin 126: count 256\n",
            "bin 127: count 256\n",
            "bin 128: count 256\n",
            "bin 129: count 256\n",
            "bin 130: count 256\n",
            "bin 131: count 256\n",
            "bin 132: count 256\n",
            "bin 133: count 256\n",
            "bin 134: count 256\n",
            "bin 135: count 256\n",
            "bin 136: count 256\n",
            "bin 137: count 256\n",
            "bin 138: count 256\n",
            "bin 139: count 256\n",
            "bin 140: count 256\n",
            "bin 141: count 256\n",
            "bin 142: count 256\n",
            "bin 143: count 256\n",
            "bin 144: count 256\n",
            "bin 145: count 256\n",
            "bin 146: count 256\n",
            "bin 147: count 256\n",
            "bin 148: count 256\n",
            "bin 149: count 256\n",
            "bin 150: count 256\n",
            "bin 151: count 256\n",
            "bin 152: count 256\n",
            "bin 153: count 256\n",
            "bin 154: count 256\n",
            "bin 155: count 256\n",
            "bin 156: count 256\n",
            "bin 157: count 256\n",
            "bin 158: count 256\n",
            "bin 159: count 256\n",
            "bin 160: count 256\n",
            "bin 161: count 256\n",
            "bin 162: count 256\n",
            "bin 163: count 256\n",
            "bin 164: count 256\n",
            "bin 165: count 256\n",
            "bin 166: count 256\n",
            "bin 167: count 256\n",
            "bin 168: count 256\n",
            "bin 169: count 256\n",
            "bin 170: count 256\n",
            "bin 171: count 256\n",
            "bin 172: count 256\n",
            "bin 173: count 256\n",
            "bin 174: count 256\n",
            "bin 175: count 256\n",
            "bin 176: count 256\n",
            "bin 177: count 256\n",
            "bin 178: count 256\n",
            "bin 179: count 256\n",
            "bin 180: count 256\n",
            "bin 181: count 256\n",
            "bin 182: count 256\n",
            "bin 183: count 256\n",
            "bin 184: count 256\n",
            "bin 185: count 256\n",
            "bin 186: count 256\n",
            "bin 187: count 256\n",
            "bin 188: count 256\n",
            "bin 189: count 256\n",
            "bin 190: count 256\n",
            "bin 191: count 256\n",
            "bin 192: count 256\n",
            "bin 193: count 256\n",
            "bin 194: count 256\n",
            "bin 195: count 256\n",
            "bin 196: count 256\n",
            "bin 197: count 256\n",
            "bin 198: count 256\n",
            "bin 199: count 256\n",
            "bin 200: count 256\n",
            "bin 201: count 256\n",
            "bin 202: count 256\n",
            "bin 203: count 256\n",
            "bin 204: count 256\n",
            "bin 205: count 256\n",
            "bin 206: count 256\n",
            "bin 207: count 256\n",
            "bin 208: count 256\n",
            "bin 209: count 256\n",
            "bin 210: count 256\n",
            "bin 211: count 256\n",
            "bin 212: count 256\n",
            "bin 213: count 256\n",
            "bin 214: count 256\n",
            "bin 215: count 256\n",
            "bin 216: count 256\n",
            "bin 217: count 256\n",
            "bin 218: count 256\n",
            "bin 219: count 256\n",
            "bin 220: count 256\n",
            "bin 221: count 256\n",
            "bin 222: count 256\n",
            "bin 223: count 256\n",
            "bin 224: count 256\n",
            "bin 225: count 256\n",
            "bin 226: count 256\n",
            "bin 227: count 256\n",
            "bin 228: count 256\n",
            "bin 229: count 256\n",
            "bin 230: count 256\n",
            "bin 231: count 256\n",
            "bin 232: count 256\n",
            "bin 233: count 256\n",
            "bin 234: count 256\n",
            "bin 235: count 256\n",
            "bin 236: count 256\n",
            "bin 237: count 256\n",
            "bin 238: count 256\n",
            "bin 239: count 256\n",
            "bin 240: count 256\n",
            "bin 241: count 256\n",
            "bin 242: count 256\n",
            "bin 243: count 256\n",
            "bin 244: count 256\n",
            "bin 245: count 256\n",
            "bin 246: count 256\n",
            "bin 247: count 256\n",
            "bin 248: count 256\n",
            "bin 249: count 256\n",
            "bin 250: count 256\n",
            "bin 251: count 256\n",
            "bin 252: count 256\n",
            "bin 253: count 256\n",
            "bin 254: count 256\n",
            "bin 255: count 256\n",
            "==10968== Profiling application: bin/histo_big 1\n",
            "==10968== Profiling result:\n",
            "            Type  Time(%)      Time     Calls       Avg       Min       Max  Name\n",
            " GPU activities:   65.21%  52.831us         1  52.831us  52.831us  52.831us  simple_histo(int*, int const *, int)\n",
            "                   32.11%  26.015us         2  13.007us  1.4720us  24.543us  [CUDA memcpy HtoD]\n",
            "                    2.69%  2.1760us         1  2.1760us  2.1760us  2.1760us  [CUDA memcpy DtoH]\n",
            "      API calls:   99.54%  139.46ms         2  69.731ms  4.3690us  139.46ms  cudaMalloc\n",
            "                    0.13%  184.40us         3  61.467us  33.147us  77.719us  cudaMemcpy\n",
            "                    0.11%  158.69us         2  79.344us  36.803us  121.89us  cudaFree\n",
            "                    0.09%  124.56us       101  1.2330us     138ns  52.599us  cuDeviceGetAttribute\n",
            "                    0.07%  100.92us         1  100.92us  100.92us  100.92us  cudaGetDeviceProperties\n",
            "                    0.03%  36.098us         1  36.098us  36.098us  36.098us  cudaLaunchKernel\n",
            "                    0.02%  31.320us         1  31.320us  31.320us  31.320us  cuDeviceGetName\n",
            "                    0.00%  5.8280us         1  5.8280us  5.8280us  5.8280us  cuDeviceGetPCIBusId\n",
            "                    0.00%  2.5750us         1  2.5750us  2.5750us  2.5750us  cudaSetDevice\n",
            "                    0.00%  1.7420us         3     580ns     220ns  1.1380us  cuDeviceGetCount\n",
            "                    0.00%  1.0530us         2     526ns     265ns     788ns  cuDeviceGet\n",
            "                    0.00%  1.0030us         1  1.0030us  1.0030us  1.0030us  cudaGetDeviceCount\n",
            "                    0.00%     505ns         1     505ns     505ns     505ns  cuDeviceTotalMem\n",
            "                    0.00%     382ns         1     382ns     382ns     382ns  cuModuleGetLoadingMode\n",
            "                    0.00%     227ns         1     227ns     227ns     227ns  cuDeviceGetUuid\n"
          ]
        }
      ]
    },
    {
      "cell_type": "markdown",
      "source": [
        "### Wnioski\n",
        "\n",
        "Widzimy, że we wszystkich konfiguracjach czas spędzony na wywołaniach z interfejsu CUDA (API calls) jest właściwie w całości spędzony na alokacji pamięci.\n",
        "\n",
        "Widzimy też, że (wbrew moim oczekiwaniom) dla większej ilości słupków (256 > 16) obliczenia są szybsze! (dla simple_histo 52 us do 96 us, dla naive_histo 9 us do 12 us).\n"
      ],
      "metadata": {
        "id": "_8xz46h-Xx-K"
      }
    }
  ]
}